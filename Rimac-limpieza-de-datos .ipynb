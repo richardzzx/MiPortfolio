{
 "cells": [
  {
   "cell_type": "markdown",
   "metadata": {
    "id": "Sz8ogFjl7a8b"
   },
   "source": [
    "# LIMPIEZA DE DATOS"
   ]
  },
  {
   "cell_type": "markdown",
   "metadata": {
    "id": "jYJxCZNZDfYe"
   },
   "source": [
    "#1. Problema\n",
    "\n",
    "Rimac encarga a su área de marketing determinar posibles clientes que están interesados o no en adquirir un seguro.\n",
    "\n",
    "¿Qué perfil tienen los clientes con mayor potencial de conversión?"
   ]
  },
  {
   "cell_type": "markdown",
   "metadata": {
    "id": "4WOEkmPt7aHf"
   },
   "source": [
    "#2. El set de datos\n",
    "\n",
    "La información recolectada por el área de marketing se encuentra en un archivo CSV (`dataset_Seguro.csv`) con 45215 filas y 17 columnas.\n",
    "\n",
    "Cada columna contiene características y una categoría \"yes\" o \"no\" dependiendo de si la persona está o no interesada en adquirir el producto. \n",
    "\n",
    "Las columnas son:\n",
    "\n",
    "1. \"edad\":  edad (numérica)\n",
    "2. \"trabajo\": tipo de trabajo (categórica: \"admin.\", \"unknown\", \"unemployed\", \"management\", \"housemaid\", \"entrepreneur\", \"student\", \"blue-collar\",\"self-employed\", \"retired\", \"technician\", \"services\") \n",
    "3. \"estado_civil\": estado civil (categórica: \"married\", \"divorced\", \"single\")\n",
    "4. \"educacion\": nivel educativo (categórica: \"unknown\", \"secondary\", \"primary\", \"tertiary\")\n",
    "5. \"atrasado\": si dejó de pagar sus obligaciones (categórica: \"yes\", \"no\")\n",
    "6. \"ahorro\": saldo de sus ahorros (numérica)\n",
    "7. \"hipoteca\": ¿tiene o no crédito hipotecario? (categórica: \"yes\", \"no\")\n",
    "8. \"tarjeta\": ¿tiene créditos de consumo? (categórica: \"yes\", \"no\")\n",
    "9. \"contacto\": medio a través del cual fue contactado (categórica: \"unknown\", \"telephone\", \"cellular\") \n",
    "10. \"dia\": último día del mes en el que fue contactada (numérica)\n",
    "11. \"mes\": último mes en el que fue contactada (categórica: \"jan\", \"feb\", \"mar\", ..., \"nov\", \"dec\")\n",
    "12. \"duracion\": duración en segundos del último contacto (numérica)\n",
    "13. \"numcontac\": número total de veces que fue contactada durante la campaña (numérica)\n",
    "14. \"dias_p\": número de días transcurridos después de haber sido contactado antes de la campaña actual, numérica. -1 indica que no fue contactado previamente)\n",
    "15. \"llamadas_antes\": número de veces que ha sido contactada antes de esta campaña (numérica)\n",
    "16. \"resultado_antes\": resultado de la campaña de marketing anterior (categórica: \"unknown\", \"other\", \"failure\", \"success\")\n",
    "17. \"resultado_ahora\": categoría ¿el cliente adquirió un seguro? (categórica: \"yes\", \"no\")"
   ]
  },
  {
   "cell_type": "markdown",
   "metadata": {
    "id": "7wXHT_PLEFkr"
   },
   "source": [
    "#3. Pasos previos a la limpieza"
   ]
  },
  {
   "cell_type": "code",
   "execution_count": 1,
   "metadata": {
    "executionInfo": {
     "elapsed": 214,
     "status": "ok",
     "timestamp": 1671183680250,
     "user": {
      "displayName": "Miguel Sotaquirá",
      "userId": "08038952820764930757"
     },
     "user_tz": 300
    },
    "id": "SQ_-SdsX7enM"
   },
   "outputs": [],
   "source": [
    "# Importar librerías\n",
    "import pandas as pd\n",
    "import matplotlib.pyplot as plt\n",
    "import seaborn as sns"
   ]
  },
  {
   "cell_type": "code",
   "execution_count": 2,
   "metadata": {
    "colab": {
     "base_uri": "https://localhost:8080/"
    },
    "executionInfo": {
     "elapsed": 1729,
     "status": "ok",
     "timestamp": 1671183682226,
     "user": {
      "displayName": "Miguel Sotaquirá",
      "userId": "08038952820764930757"
     },
     "user_tz": 300
    },
    "id": "yECOD3UAEV-a",
    "outputId": "7294032e-20f8-4149-bc41-fe6e29483dd0"
   },
   "outputs": [],
   "source": [
    "# Lectura\n",
    "data = pd.read_csv('dataset_Seguro.csv')"
   ]
  },
  {
   "cell_type": "code",
   "execution_count": 3,
   "metadata": {
    "colab": {
     "base_uri": "https://localhost:8080/",
     "height": 289
    },
    "executionInfo": {
     "elapsed": 17,
     "status": "ok",
     "timestamp": 1671183682227,
     "user": {
      "displayName": "Miguel Sotaquirá",
      "userId": "08038952820764930757"
     },
     "user_tz": 300
    },
    "id": "DAurjZa07b5Z",
    "outputId": "ceef143c-51bf-4d6a-f6c3-00d12e3fff21"
   },
   "outputs": [
    {
     "name": "stdout",
     "output_type": "stream",
     "text": [
      "(45215, 17)\n"
     ]
    },
    {
     "data": {
      "text/html": [
       "<div>\n",
       "<style scoped>\n",
       "    .dataframe tbody tr th:only-of-type {\n",
       "        vertical-align: middle;\n",
       "    }\n",
       "\n",
       "    .dataframe tbody tr th {\n",
       "        vertical-align: top;\n",
       "    }\n",
       "\n",
       "    .dataframe thead th {\n",
       "        text-align: right;\n",
       "    }\n",
       "</style>\n",
       "<table border=\"1\" class=\"dataframe\">\n",
       "  <thead>\n",
       "    <tr style=\"text-align: right;\">\n",
       "      <th></th>\n",
       "      <th>edad</th>\n",
       "      <th>trabajo</th>\n",
       "      <th>estado_civil</th>\n",
       "      <th>educacion</th>\n",
       "      <th>atrasado</th>\n",
       "      <th>ahorro</th>\n",
       "      <th>hipoteca</th>\n",
       "      <th>tarjeta</th>\n",
       "      <th>contacto</th>\n",
       "      <th>dia</th>\n",
       "      <th>mes</th>\n",
       "      <th>duracion</th>\n",
       "      <th>numcontact</th>\n",
       "      <th>dias_p</th>\n",
       "      <th>llamadas_antes</th>\n",
       "      <th>resultado_antes</th>\n",
       "      <th>resultado_ahora</th>\n",
       "    </tr>\n",
       "  </thead>\n",
       "  <tbody>\n",
       "    <tr>\n",
       "      <td>0</td>\n",
       "      <td>58</td>\n",
       "      <td>management</td>\n",
       "      <td>married</td>\n",
       "      <td>tertiary</td>\n",
       "      <td>no</td>\n",
       "      <td>2143.0</td>\n",
       "      <td>yes</td>\n",
       "      <td>no</td>\n",
       "      <td>unknown</td>\n",
       "      <td>5</td>\n",
       "      <td>may</td>\n",
       "      <td>261.0</td>\n",
       "      <td>1</td>\n",
       "      <td>-1.0</td>\n",
       "      <td>0</td>\n",
       "      <td>unknown</td>\n",
       "      <td>no</td>\n",
       "    </tr>\n",
       "    <tr>\n",
       "      <td>1</td>\n",
       "      <td>44</td>\n",
       "      <td>technician</td>\n",
       "      <td>single</td>\n",
       "      <td>secondary</td>\n",
       "      <td>no</td>\n",
       "      <td>29.0</td>\n",
       "      <td>yes</td>\n",
       "      <td>no</td>\n",
       "      <td>unknown</td>\n",
       "      <td>5</td>\n",
       "      <td>may</td>\n",
       "      <td>151.0</td>\n",
       "      <td>1</td>\n",
       "      <td>-1.0</td>\n",
       "      <td>0</td>\n",
       "      <td>unknown</td>\n",
       "      <td>no</td>\n",
       "    </tr>\n",
       "    <tr>\n",
       "      <td>2</td>\n",
       "      <td>33</td>\n",
       "      <td>entrepreneur</td>\n",
       "      <td>married</td>\n",
       "      <td>secondary</td>\n",
       "      <td>no</td>\n",
       "      <td>2.0</td>\n",
       "      <td>yes</td>\n",
       "      <td>yes</td>\n",
       "      <td>unknown</td>\n",
       "      <td>5</td>\n",
       "      <td>may</td>\n",
       "      <td>76.0</td>\n",
       "      <td>1</td>\n",
       "      <td>-1.0</td>\n",
       "      <td>0</td>\n",
       "      <td>unknown</td>\n",
       "      <td>no</td>\n",
       "    </tr>\n",
       "    <tr>\n",
       "      <td>3</td>\n",
       "      <td>47</td>\n",
       "      <td>blue-collar</td>\n",
       "      <td>married</td>\n",
       "      <td>unknown</td>\n",
       "      <td>no</td>\n",
       "      <td>1506.0</td>\n",
       "      <td>yes</td>\n",
       "      <td>no</td>\n",
       "      <td>unknown</td>\n",
       "      <td>5</td>\n",
       "      <td>may</td>\n",
       "      <td>92.0</td>\n",
       "      <td>1</td>\n",
       "      <td>-1.0</td>\n",
       "      <td>0</td>\n",
       "      <td>unknown</td>\n",
       "      <td>no</td>\n",
       "    </tr>\n",
       "    <tr>\n",
       "      <td>4</td>\n",
       "      <td>33</td>\n",
       "      <td>unknown</td>\n",
       "      <td>single</td>\n",
       "      <td>unknown</td>\n",
       "      <td>no</td>\n",
       "      <td>1.0</td>\n",
       "      <td>no</td>\n",
       "      <td>no</td>\n",
       "      <td>unknown</td>\n",
       "      <td>5</td>\n",
       "      <td>may</td>\n",
       "      <td>198.0</td>\n",
       "      <td>1</td>\n",
       "      <td>-1.0</td>\n",
       "      <td>0</td>\n",
       "      <td>unknown</td>\n",
       "      <td>no</td>\n",
       "    </tr>\n",
       "  </tbody>\n",
       "</table>\n",
       "</div>"
      ],
      "text/plain": [
       "   edad       trabajo estado_civil  educacion atrasado  ahorro hipoteca  \\\n",
       "0    58    management      married   tertiary       no  2143.0      yes   \n",
       "1    44    technician       single  secondary       no    29.0      yes   \n",
       "2    33  entrepreneur      married  secondary       no     2.0      yes   \n",
       "3    47   blue-collar      married    unknown       no  1506.0      yes   \n",
       "4    33       unknown       single    unknown       no     1.0       no   \n",
       "\n",
       "  tarjeta contacto  dia  mes  duracion  numcontact  dias_p  llamadas_antes  \\\n",
       "0      no  unknown    5  may     261.0           1    -1.0               0   \n",
       "1      no  unknown    5  may     151.0           1    -1.0               0   \n",
       "2     yes  unknown    5  may      76.0           1    -1.0               0   \n",
       "3      no  unknown    5  may      92.0           1    -1.0               0   \n",
       "4      no  unknown    5  may     198.0           1    -1.0               0   \n",
       "\n",
       "  resultado_antes resultado_ahora  \n",
       "0         unknown              no  \n",
       "1         unknown              no  \n",
       "2         unknown              no  \n",
       "3         unknown              no  \n",
       "4         unknown              no  "
      ]
     },
     "execution_count": 3,
     "metadata": {},
     "output_type": "execute_result"
    }
   ],
   "source": [
    "print(data.shape)\n",
    "data.head()"
   ]
  },
  {
   "cell_type": "code",
   "execution_count": 4,
   "metadata": {
    "colab": {
     "base_uri": "https://localhost:8080/"
    },
    "executionInfo": {
     "elapsed": 13,
     "status": "ok",
     "timestamp": 1671183682228,
     "user": {
      "displayName": "Miguel Sotaquirá",
      "userId": "08038952820764930757"
     },
     "user_tz": 300
    },
    "id": "gATCZsQPE3VQ",
    "outputId": "4e51a865-e961-4849-d5b8-130c40b76eab"
   },
   "outputs": [
    {
     "name": "stdout",
     "output_type": "stream",
     "text": [
      "<class 'pandas.core.frame.DataFrame'>\n",
      "RangeIndex: 45215 entries, 0 to 45214\n",
      "Data columns (total 17 columns):\n",
      "edad               45215 non-null int64\n",
      "trabajo            45213 non-null object\n",
      "estado_civil       45214 non-null object\n",
      "educacion          45214 non-null object\n",
      "atrasado           45215 non-null object\n",
      "ahorro             45213 non-null float64\n",
      "hipoteca           45215 non-null object\n",
      "tarjeta            45215 non-null object\n",
      "contacto           45215 non-null object\n",
      "dia                45215 non-null int64\n",
      "mes                45215 non-null object\n",
      "duracion           45214 non-null float64\n",
      "numcontact         45215 non-null int64\n",
      "dias_p             45214 non-null float64\n",
      "llamadas_antes     45215 non-null int64\n",
      "resultado_antes    45215 non-null object\n",
      "resultado_ahora    45215 non-null object\n",
      "dtypes: float64(3), int64(4), object(10)\n",
      "memory usage: 5.9+ MB\n"
     ]
    }
   ],
   "source": [
    "# Veamos las variables categóricas y las numéricas\n",
    "data.info()"
   ]
  },
  {
   "cell_type": "code",
   "execution_count": 5,
   "metadata": {},
   "outputs": [
    {
     "data": {
      "text/html": [
       "<div>\n",
       "<style scoped>\n",
       "    .dataframe tbody tr th:only-of-type {\n",
       "        vertical-align: middle;\n",
       "    }\n",
       "\n",
       "    .dataframe tbody tr th {\n",
       "        vertical-align: top;\n",
       "    }\n",
       "\n",
       "    .dataframe thead th {\n",
       "        text-align: right;\n",
       "    }\n",
       "</style>\n",
       "<table border=\"1\" class=\"dataframe\">\n",
       "  <thead>\n",
       "    <tr style=\"text-align: right;\">\n",
       "      <th></th>\n",
       "      <th>edad</th>\n",
       "      <th>trabajo</th>\n",
       "      <th>estado_civil</th>\n",
       "      <th>educacion</th>\n",
       "      <th>atrasado</th>\n",
       "      <th>ahorro</th>\n",
       "      <th>hipoteca</th>\n",
       "      <th>tarjeta</th>\n",
       "      <th>contacto</th>\n",
       "      <th>dia</th>\n",
       "      <th>mes</th>\n",
       "      <th>duracion</th>\n",
       "      <th>numcontact</th>\n",
       "      <th>dias_p</th>\n",
       "      <th>llamadas_antes</th>\n",
       "      <th>resultado_antes</th>\n",
       "      <th>resultado_ahora</th>\n",
       "    </tr>\n",
       "  </thead>\n",
       "  <tbody>\n",
       "    <tr>\n",
       "      <td>0</td>\n",
       "      <td>58</td>\n",
       "      <td>management</td>\n",
       "      <td>married</td>\n",
       "      <td>tertiary</td>\n",
       "      <td>no</td>\n",
       "      <td>2143.0</td>\n",
       "      <td>yes</td>\n",
       "      <td>no</td>\n",
       "      <td>unknown</td>\n",
       "      <td>5</td>\n",
       "      <td>may</td>\n",
       "      <td>261.0</td>\n",
       "      <td>1</td>\n",
       "      <td>-1.0</td>\n",
       "      <td>0</td>\n",
       "      <td>unknown</td>\n",
       "      <td>no</td>\n",
       "    </tr>\n",
       "    <tr>\n",
       "      <td>1</td>\n",
       "      <td>44</td>\n",
       "      <td>technician</td>\n",
       "      <td>single</td>\n",
       "      <td>secondary</td>\n",
       "      <td>no</td>\n",
       "      <td>29.0</td>\n",
       "      <td>yes</td>\n",
       "      <td>no</td>\n",
       "      <td>unknown</td>\n",
       "      <td>5</td>\n",
       "      <td>may</td>\n",
       "      <td>151.0</td>\n",
       "      <td>1</td>\n",
       "      <td>-1.0</td>\n",
       "      <td>0</td>\n",
       "      <td>unknown</td>\n",
       "      <td>no</td>\n",
       "    </tr>\n",
       "    <tr>\n",
       "      <td>2</td>\n",
       "      <td>33</td>\n",
       "      <td>entrepreneur</td>\n",
       "      <td>married</td>\n",
       "      <td>secondary</td>\n",
       "      <td>no</td>\n",
       "      <td>2.0</td>\n",
       "      <td>yes</td>\n",
       "      <td>yes</td>\n",
       "      <td>unknown</td>\n",
       "      <td>5</td>\n",
       "      <td>may</td>\n",
       "      <td>76.0</td>\n",
       "      <td>1</td>\n",
       "      <td>-1.0</td>\n",
       "      <td>0</td>\n",
       "      <td>unknown</td>\n",
       "      <td>no</td>\n",
       "    </tr>\n",
       "    <tr>\n",
       "      <td>3</td>\n",
       "      <td>47</td>\n",
       "      <td>blue-collar</td>\n",
       "      <td>married</td>\n",
       "      <td>unknown</td>\n",
       "      <td>no</td>\n",
       "      <td>1506.0</td>\n",
       "      <td>yes</td>\n",
       "      <td>no</td>\n",
       "      <td>unknown</td>\n",
       "      <td>5</td>\n",
       "      <td>may</td>\n",
       "      <td>92.0</td>\n",
       "      <td>1</td>\n",
       "      <td>-1.0</td>\n",
       "      <td>0</td>\n",
       "      <td>unknown</td>\n",
       "      <td>no</td>\n",
       "    </tr>\n",
       "    <tr>\n",
       "      <td>4</td>\n",
       "      <td>33</td>\n",
       "      <td>unknown</td>\n",
       "      <td>single</td>\n",
       "      <td>unknown</td>\n",
       "      <td>no</td>\n",
       "      <td>1.0</td>\n",
       "      <td>no</td>\n",
       "      <td>no</td>\n",
       "      <td>unknown</td>\n",
       "      <td>5</td>\n",
       "      <td>may</td>\n",
       "      <td>198.0</td>\n",
       "      <td>1</td>\n",
       "      <td>-1.0</td>\n",
       "      <td>0</td>\n",
       "      <td>unknown</td>\n",
       "      <td>no</td>\n",
       "    </tr>\n",
       "  </tbody>\n",
       "</table>\n",
       "</div>"
      ],
      "text/plain": [
       "   edad       trabajo estado_civil  educacion atrasado  ahorro hipoteca  \\\n",
       "0    58    management      married   tertiary       no  2143.0      yes   \n",
       "1    44    technician       single  secondary       no    29.0      yes   \n",
       "2    33  entrepreneur      married  secondary       no     2.0      yes   \n",
       "3    47   blue-collar      married    unknown       no  1506.0      yes   \n",
       "4    33       unknown       single    unknown       no     1.0       no   \n",
       "\n",
       "  tarjeta contacto  dia  mes  duracion  numcontact  dias_p  llamadas_antes  \\\n",
       "0      no  unknown    5  may     261.0           1    -1.0               0   \n",
       "1      no  unknown    5  may     151.0           1    -1.0               0   \n",
       "2     yes  unknown    5  may      76.0           1    -1.0               0   \n",
       "3      no  unknown    5  may      92.0           1    -1.0               0   \n",
       "4      no  unknown    5  may     198.0           1    -1.0               0   \n",
       "\n",
       "  resultado_antes resultado_ahora  \n",
       "0         unknown              no  \n",
       "1         unknown              no  \n",
       "2         unknown              no  \n",
       "3         unknown              no  \n",
       "4         unknown              no  "
      ]
     },
     "execution_count": 5,
     "metadata": {},
     "output_type": "execute_result"
    }
   ],
   "source": [
    "data.head()\n"
   ]
  },
  {
   "cell_type": "markdown",
   "metadata": {
    "id": "CGUfF1eZaeoj"
   },
   "source": [
    "#4. Limpieza\n",
    "\n",
    "Realizaremos el proceso de limpieza teniendo en cuenta las situaciones más comunes:\n",
    "\n",
    "1. Datos faltantes en algunas celdas.\n",
    "2. Columnas irrelevantes que no responden al problema que queremos resolver.\n",
    "3. Registros (filas) repetidos.\n",
    "4. Valores extremos (outliers) en el caso de las variables numéricas. Se deben analizar en detalle pues no necesariamente la solución es eliminarlos\n",
    "5. Errores tipográficos en el caso de las variables categóricas\n",
    "\n",
    "Al final de este proceso de limpieza deberíamos tener un set de datos limpio."
   ]
  },
  {
   "cell_type": "markdown",
   "metadata": {
    "id": "zxyeciKcaClS"
   },
   "source": [
    "## 4.1 Datos faltantes\n",
    "\n",
    "Comenzamos a ver que los datos no están completos, pues no todas las columnas tienen la misma cantidad de registros, el número total de registros (filas) debería ser 45.215. Sin embargo columnas como \"trabajo\", \"estado_civil\", \"educacion\", \"ahorro\", \"duracion\" y \"dias_p\".\n",
    "\n",
    "Por ser tan pocos los datos  faltantes optaremos por eliminar las filas correspondientes:"
   ]
  },
  {
   "cell_type": "code",
   "execution_count": 6,
   "metadata": {
    "colab": {
     "base_uri": "https://localhost:8080/"
    },
    "executionInfo": {
     "elapsed": 217,
     "status": "ok",
     "timestamp": 1671183682435,
     "user": {
      "displayName": "Miguel Sotaquirá",
      "userId": "08038952820764930757"
     },
     "user_tz": 300
    },
    "id": "_KCHs7bvE-UR",
    "outputId": "9260b2d8-01e2-4e0b-abd7-d917c257c01b"
   },
   "outputs": [
    {
     "name": "stdout",
     "output_type": "stream",
     "text": [
      "<class 'pandas.core.frame.DataFrame'>\n",
      "Int64Index: 45207 entries, 0 to 45214\n",
      "Data columns (total 17 columns):\n",
      "edad               45207 non-null int64\n",
      "trabajo            45207 non-null object\n",
      "estado_civil       45207 non-null object\n",
      "educacion          45207 non-null object\n",
      "atrasado           45207 non-null object\n",
      "ahorro             45207 non-null float64\n",
      "hipoteca           45207 non-null object\n",
      "tarjeta            45207 non-null object\n",
      "contacto           45207 non-null object\n",
      "dia                45207 non-null int64\n",
      "mes                45207 non-null object\n",
      "duracion           45207 non-null float64\n",
      "numcontact         45207 non-null int64\n",
      "dias_p             45207 non-null float64\n",
      "llamadas_antes     45207 non-null int64\n",
      "resultado_antes    45207 non-null object\n",
      "resultado_ahora    45207 non-null object\n",
      "dtypes: float64(3), int64(4), object(10)\n",
      "memory usage: 6.2+ MB\n"
     ]
    }
   ],
   "source": [
    "data.dropna(inplace=True)\n",
    "data.info()"
   ]
  },
  {
   "cell_type": "markdown",
   "metadata": {
    "id": "4a2bJcMewV33"
   },
   "source": [
    "##4.2 Columnas irrelevantes\n",
    "\n",
    "Una columna irrelevante puede ser:\n",
    "\n",
    "- **Una columna que no contiene información relevante para el problema que queremos resolver**. Por ejemplo en este caso podría ser una columna que no guarde relación con el posible perfil del cliente (deporte favorito, hobbies, comida favorita, etc.)\n",
    "- **Una columna categórica pero con un sólo nivel**. Por ejemplo si en la columna \"job\" solo tuviésemos el nivel \"unknown\".\n",
    "- **Una columna numérica pero con un sólo valor**. Por ejemplo si en la columna \"edad\" todos los vlaores fuesen iguales a 50.\n",
    "- **Columnas con información redundante**. Por ejemplo si además de las columnas \"month\" y \"day\" tuviésemos la columna \"month-day\", resultado de combinar las dos anteriores.\n",
    "\n",
    "Si tenemos la duda de si alguna columna puede ser relevante o no lo mejor es dejarla (y más adelante en posteriores etapas podremos darnos cuenta de si se debe preservar o no).\n",
    "\n",
    "En este caso todas las columnas pueden resultar relevantes, pero debemos verificar que no haya columnas categóricas con un sólo nivel, o columnas numéricas con un sólo valor:"
   ]
  },
  {
   "cell_type": "code",
   "execution_count": 7,
   "metadata": {
    "colab": {
     "base_uri": "https://localhost:8080/"
    },
    "executionInfo": {
     "elapsed": 17,
     "status": "ok",
     "timestamp": 1671183682436,
     "user": {
      "displayName": "Miguel Sotaquirá",
      "userId": "08038952820764930757"
     },
     "user_tz": 300
    },
    "id": "DpR6nqaWFfSf",
    "outputId": "4009395f-5e7e-4b3c-edcb-94e0ae93b710"
   },
   "outputs": [
    {
     "name": "stdout",
     "output_type": "stream",
     "text": [
      "Columna trabajo: 18 subniveles\n",
      "Columna estado_civil: 6 subniveles\n",
      "Columna educacion: 10 subniveles\n",
      "Columna atrasado: 2 subniveles\n",
      "Columna hipoteca: 2 subniveles\n",
      "Columna tarjeta: 6 subniveles\n",
      "Columna contacto: 5 subniveles\n",
      "Columna mes: 12 subniveles\n",
      "Columna resultado_antes: 6 subniveles\n",
      "Columna resultado_ahora: 2 subniveles\n"
     ]
    }
   ],
   "source": [
    "# Conteo de los niveles en las diferentes columnas categóricas\n",
    "cols_cat = ['trabajo', 'estado_civil', 'educacion', 'atrasado', 'hipoteca',\n",
    "       'tarjeta', 'contacto', 'mes', 'resultado_antes', 'resultado_ahora']\n",
    "\n",
    "for col in cols_cat:\n",
    "  print(f'Columna {col}: {data[col].nunique()} subniveles')"
   ]
  },
  {
   "cell_type": "markdown",
   "metadata": {
    "id": "pCw6dYMryt0O"
   },
   "source": [
    "Todas las columnas categóricas tienen más de 1 subnivel. No eliminaremos ninguna.\n",
    "\n",
    "Verifiquemos lo que ocurre con las columnas numéricas:"
   ]
  },
  {
   "cell_type": "code",
   "execution_count": 8,
   "metadata": {
    "colab": {
     "base_uri": "https://localhost:8080/",
     "height": 300
    },
    "executionInfo": {
     "elapsed": 15,
     "status": "ok",
     "timestamp": 1671183682438,
     "user": {
      "displayName": "Miguel Sotaquirá",
      "userId": "08038952820764930757"
     },
     "user_tz": 300
    },
    "id": "KNPnGhhyG1Sk",
    "outputId": "746c1cf1-f60c-41c4-a972-c7d1d1f9aa44"
   },
   "outputs": [
    {
     "data": {
      "text/html": [
       "<div>\n",
       "<style scoped>\n",
       "    .dataframe tbody tr th:only-of-type {\n",
       "        vertical-align: middle;\n",
       "    }\n",
       "\n",
       "    .dataframe tbody tr th {\n",
       "        vertical-align: top;\n",
       "    }\n",
       "\n",
       "    .dataframe thead th {\n",
       "        text-align: right;\n",
       "    }\n",
       "</style>\n",
       "<table border=\"1\" class=\"dataframe\">\n",
       "  <thead>\n",
       "    <tr style=\"text-align: right;\">\n",
       "      <th></th>\n",
       "      <th>edad</th>\n",
       "      <th>ahorro</th>\n",
       "      <th>dia</th>\n",
       "      <th>duracion</th>\n",
       "      <th>numcontact</th>\n",
       "      <th>dias_p</th>\n",
       "      <th>llamadas_antes</th>\n",
       "    </tr>\n",
       "  </thead>\n",
       "  <tbody>\n",
       "    <tr>\n",
       "      <td>count</td>\n",
       "      <td>45207.000000</td>\n",
       "      <td>45207.000000</td>\n",
       "      <td>45207.000000</td>\n",
       "      <td>45207.000000</td>\n",
       "      <td>45207.000000</td>\n",
       "      <td>45207.000000</td>\n",
       "      <td>45207.000000</td>\n",
       "    </tr>\n",
       "    <tr>\n",
       "      <td>mean</td>\n",
       "      <td>41.005596</td>\n",
       "      <td>1374.201318</td>\n",
       "      <td>15.806534</td>\n",
       "      <td>258.032539</td>\n",
       "      <td>2.763731</td>\n",
       "      <td>40.178225</td>\n",
       "      <td>0.580198</td>\n",
       "    </tr>\n",
       "    <tr>\n",
       "      <td>std</td>\n",
       "      <td>12.037399</td>\n",
       "      <td>3924.491665</td>\n",
       "      <td>8.323015</td>\n",
       "      <td>257.460759</td>\n",
       "      <td>3.098058</td>\n",
       "      <td>100.103283</td>\n",
       "      <td>2.303341</td>\n",
       "    </tr>\n",
       "    <tr>\n",
       "      <td>min</td>\n",
       "      <td>18.000000</td>\n",
       "      <td>-8019.000000</td>\n",
       "      <td>1.000000</td>\n",
       "      <td>-1389.000000</td>\n",
       "      <td>1.000000</td>\n",
       "      <td>-1.000000</td>\n",
       "      <td>0.000000</td>\n",
       "    </tr>\n",
       "    <tr>\n",
       "      <td>25%</td>\n",
       "      <td>33.000000</td>\n",
       "      <td>72.000000</td>\n",
       "      <td>8.000000</td>\n",
       "      <td>103.000000</td>\n",
       "      <td>1.000000</td>\n",
       "      <td>-1.000000</td>\n",
       "      <td>0.000000</td>\n",
       "    </tr>\n",
       "    <tr>\n",
       "      <td>50%</td>\n",
       "      <td>39.000000</td>\n",
       "      <td>448.000000</td>\n",
       "      <td>16.000000</td>\n",
       "      <td>180.000000</td>\n",
       "      <td>2.000000</td>\n",
       "      <td>-1.000000</td>\n",
       "      <td>0.000000</td>\n",
       "    </tr>\n",
       "    <tr>\n",
       "      <td>75%</td>\n",
       "      <td>48.000000</td>\n",
       "      <td>1427.500000</td>\n",
       "      <td>21.000000</td>\n",
       "      <td>319.000000</td>\n",
       "      <td>3.000000</td>\n",
       "      <td>-1.000000</td>\n",
       "      <td>0.000000</td>\n",
       "    </tr>\n",
       "    <tr>\n",
       "      <td>max</td>\n",
       "      <td>776.000000</td>\n",
       "      <td>527532.000000</td>\n",
       "      <td>31.000000</td>\n",
       "      <td>4918.000000</td>\n",
       "      <td>63.000000</td>\n",
       "      <td>871.000000</td>\n",
       "      <td>275.000000</td>\n",
       "    </tr>\n",
       "  </tbody>\n",
       "</table>\n",
       "</div>"
      ],
      "text/plain": [
       "               edad         ahorro           dia      duracion    numcontact  \\\n",
       "count  45207.000000   45207.000000  45207.000000  45207.000000  45207.000000   \n",
       "mean      41.005596    1374.201318     15.806534    258.032539      2.763731   \n",
       "std       12.037399    3924.491665      8.323015    257.460759      3.098058   \n",
       "min       18.000000   -8019.000000      1.000000  -1389.000000      1.000000   \n",
       "25%       33.000000      72.000000      8.000000    103.000000      1.000000   \n",
       "50%       39.000000     448.000000     16.000000    180.000000      2.000000   \n",
       "75%       48.000000    1427.500000     21.000000    319.000000      3.000000   \n",
       "max      776.000000  527532.000000     31.000000   4918.000000     63.000000   \n",
       "\n",
       "             dias_p  llamadas_antes  \n",
       "count  45207.000000    45207.000000  \n",
       "mean      40.178225        0.580198  \n",
       "std      100.103283        2.303341  \n",
       "min       -1.000000        0.000000  \n",
       "25%       -1.000000        0.000000  \n",
       "50%       -1.000000        0.000000  \n",
       "75%       -1.000000        0.000000  \n",
       "max      871.000000      275.000000  "
      ]
     },
     "execution_count": 8,
     "metadata": {},
     "output_type": "execute_result"
    }
   ],
   "source": [
    "data.describe()"
   ]
  },
  {
   "cell_type": "markdown",
   "metadata": {
    "id": "o_ulm42Hy8nm"
   },
   "source": [
    "Todas las columnas numéricas tienen desviaciones estándar (\"std\") diferentes de cero, lo que indica que no tienen un único valor.\n",
    "\n",
    "Preservaremos todas las columnas numéricas."
   ]
  },
  {
   "cell_type": "markdown",
   "metadata": {
    "id": "WyPaJNZFzISZ"
   },
   "source": [
    "##4.3 Filas repetidas"
   ]
  },
  {
   "cell_type": "code",
   "execution_count": 9,
   "metadata": {
    "colab": {
     "base_uri": "https://localhost:8080/"
    },
    "executionInfo": {
     "elapsed": 14,
     "status": "ok",
     "timestamp": 1671183682439,
     "user": {
      "displayName": "Miguel Sotaquirá",
      "userId": "08038952820764930757"
     },
     "user_tz": 300
    },
    "id": "4U99PpRBG1-H",
    "outputId": "219195d5-f845-4e3f-af4c-411d2a8473e0"
   },
   "outputs": [
    {
     "name": "stdout",
     "output_type": "stream",
     "text": [
      "Tamaño del set antes de eliminar las filas repetidas: (45207, 17)\n",
      "Tamaño del set después de eliminar las filas repetidas: (45203, 17)\n"
     ]
    }
   ],
   "source": [
    "print(f'Tamaño del set antes de eliminar las filas repetidas: {data.shape}')\n",
    "data.drop_duplicates(inplace=True)\n",
    "print(f'Tamaño del set después de eliminar las filas repetidas: {data.shape}')"
   ]
  },
  {
   "cell_type": "markdown",
   "metadata": {
    "id": "vAdN5qxyzpRV"
   },
   "source": [
    "##4.4 *Outliers* en las variables numéricas\n",
    "\n",
    "No siempre se deben eliminar los *outliers* porque dependiendo de la variable numérica analizada estos pueden contener información importante.\n",
    "\n",
    "Creemos gráficas tipo \"boxplot\" de las columnas numéricas:"
   ]
  },
  {
   "cell_type": "code",
   "execution_count": 10,
   "metadata": {
    "colab": {
     "base_uri": "https://localhost:8080/",
     "height": 1000
    },
    "executionInfo": {
     "elapsed": 1207,
     "status": "ok",
     "timestamp": 1671183683636,
     "user": {
      "displayName": "Miguel Sotaquirá",
      "userId": "08038952820764930757"
     },
     "user_tz": 300
    },
    "id": "QhiHlPFV0I02",
    "outputId": "2d2b9f56-8b8d-48f9-b1f1-4ca4da835920"
   },
   "outputs": [
    {
     "data": {
      "image/png": "[encoded data removed]",
      "text/plain": [
       "<Figure size 576x2160 with 7 Axes>"
      ]
     },
     "metadata": {
      "needs_background": "light"
     },
     "output_type": "display_data"
    }
   ],
   "source": [
    "# Generar gráficas individuales pues las variables numéricas\n",
    "# están en rangos diferentes\n",
    "cols_num = ['edad', 'ahorro', 'dia', 'duracion', 'numcontact',\n",
    "            'dias_p', 'llamadas_antes']\n",
    "\n",
    "fig, ax = plt.subplots(nrows=7, ncols=1, figsize=(8,30))\n",
    "fig.subplots_adjust(hspace=0.5)\n",
    "\n",
    "for i, col in enumerate(cols_num):\n",
    "    sns.boxplot(x=col, data=data, ax=ax[i])\n",
    "    ax[i].set_title(col)"
   ]
  },
  {
   "cell_type": "markdown",
   "metadata": {
    "id": "PXp7xuqB2qs6"
   },
   "source": [
    "**Observaciones:**\n",
    "- \"edad\": hay sujetos con edades mucho mayores a 100 años\n",
    "- \"duracion\": hay valores negativos\n",
    "- \"llamadas_antes\": hay un valor extremadamente alto (cercano a 300)"
   ]
  },
  {
   "cell_type": "code",
   "execution_count": 11,
   "metadata": {
    "colab": {
     "base_uri": "https://localhost:8080/"
    },
    "executionInfo": {
     "elapsed": 17,
     "status": "ok",
     "timestamp": 1671183683637,
     "user": {
      "displayName": "Miguel Sotaquirá",
      "userId": "08038952820764930757"
     },
     "user_tz": 300
    },
    "id": "EdX52H3x2qEp",
    "outputId": "1815cca0-0b2a-43b4-dae8-80ef00b5fcf6"
   },
   "outputs": [
    {
     "name": "stdout",
     "output_type": "stream",
     "text": [
      "Tamaño del set antes de eliminar registros de edad: (45203, 17)\n",
      "Tamaño del set después de eliminar registros de edad: (45195, 17)\n"
     ]
    }
   ],
   "source": [
    "# Eliminar filas con \"edad\">100\n",
    "print(f'Tamaño del set antes de eliminar registros de edad: {data.shape}')\n",
    "data = data[data['edad']<=100]\n",
    "print(f'Tamaño del set después de eliminar registros de edad: {data.shape}')"
   ]
  },
  {
   "cell_type": "code",
   "execution_count": 12,
   "metadata": {
    "colab": {
     "base_uri": "https://localhost:8080/"
    },
    "executionInfo": {
     "elapsed": 14,
     "status": "ok",
     "timestamp": 1671183683638,
     "user": {
      "displayName": "Miguel Sotaquirá",
      "userId": "08038952820764930757"
     },
     "user_tz": 300
    },
    "id": "mc5imiIA3uSI",
    "outputId": "12a36a9d-687c-4547-ad9d-add951a347c3"
   },
   "outputs": [
    {
     "name": "stdout",
     "output_type": "stream",
     "text": [
      "Tamaño del set antes de eliminar registros de duración: (45195, 17)\n",
      "Tamaño del set después de eliminar registros de duración: (45190, 17)\n"
     ]
    }
   ],
   "source": [
    "# Eliminar filas con \"duracion\"<0\n",
    "print(f'Tamaño del set antes de eliminar registros de duración: {data.shape}')\n",
    "data = data[data['duracion']>0]\n",
    "print(f'Tamaño del set después de eliminar registros de duración: {data.shape}')"
   ]
  },
  {
   "cell_type": "code",
   "execution_count": 13,
   "metadata": {
    "colab": {
     "base_uri": "https://localhost:8080/"
    },
    "executionInfo": {
     "elapsed": 12,
     "status": "ok",
     "timestamp": 1671183683639,
     "user": {
      "displayName": "Miguel Sotaquirá",
      "userId": "08038952820764930757"
     },
     "user_tz": 300
    },
    "id": "mtTOcbEn1b5X",
    "outputId": "41818347-b8ff-4b29-aa3a-033ea6f0198b"
   },
   "outputs": [
    {
     "name": "stdout",
     "output_type": "stream",
     "text": [
      "Tamaño del set antes de eliminar registros de llamadas_antes: (45190, 17)\n",
      "Tamaño del set después de eliminar registros de llamadas_antes: (45189, 17)\n"
     ]
    }
   ],
   "source": [
    "# Eliminar filas con \"previous\">100\n",
    "print(f'Tamaño del set antes de eliminar registros de llamadas_antes: {data.shape}')\n",
    "data = data[data['llamadas_antes']<=100]\n",
    "print(f'Tamaño del set después de eliminar registros de llamadas_antes: {data.shape}')"
   ]
  },
  {
   "cell_type": "markdown",
   "metadata": {
    "id": "Ys8L2CGb4vWq"
   },
   "source": [
    "##4.5 Errores tipográficos en variables categóricas\n",
    "\n",
    "En una variable categórica pueden aparecer sub-niveles como \"unknown\" y \"UNK\" que para nosotros son equivalentes pero que para nuestro programa parecerían diferentes.\n",
    "\n",
    "Se deben unificar estos sub-niveles"
   ]
  },
  {
   "cell_type": "code",
   "execution_count": 14,
   "metadata": {
    "colab": {
     "base_uri": "https://localhost:8080/",
     "height": 1000
    },
    "executionInfo": {
     "elapsed": 2357,
     "status": "ok",
     "timestamp": 1671183685986,
     "user": {
      "displayName": "Miguel Sotaquirá",
      "userId": "08038952820764930757"
     },
     "user_tz": 300
    },
    "id": "Euf8w52C5K39",
    "outputId": "cd8ae513-02fd-40ad-b186-936371435abb"
   },
   "outputs": [
    {
     "data": {
      "image/png": "[encoded data removed]",
      "text/plain": [
       "<Figure size 720x2160 with 10 Axes>"
      ]
     },
     "metadata": {
      "needs_background": "light"
     },
     "output_type": "display_data"
    }
   ],
   "source": [
    "# Graficar los subniveles de cada variable categórica\n",
    "cols_cat = ['trabajo', 'estado_civil', 'educacion', 'atrasado', 'hipoteca',\n",
    "       'tarjeta', 'contacto', 'mes', 'resultado_antes', 'resultado_ahora']\n",
    "\n",
    "fig, ax = plt.subplots(nrows=10, ncols=1, figsize=(10,30))\n",
    "fig.subplots_adjust(hspace=1)\n",
    "\n",
    "for i, col in enumerate(cols_cat):\n",
    "  sns.countplot(x=col, data=data, ax=ax[i])\n",
    "  ax[i].set_title(col)\n",
    "  ax[i].set_xticklabels(ax[i].get_xticklabels(),rotation=30)"
   ]
  },
  {
   "cell_type": "markdown",
   "metadata": {
    "id": "D1gBENL_5hW7"
   },
   "source": [
    "Inicialmente se observa que hay sub-niveles con el mismo nombre pero escritos en minúscula, en mayúscula o con la primera letra en mayúscula.\n",
    "\n",
    "Unifiquemos estos sub-niveles inicialmente:"
   ]
  },
  {
   "cell_type": "code",
   "execution_count": 15,
   "metadata": {
    "colab": {
     "base_uri": "https://localhost:8080/",
     "height": 1000
    },
    "executionInfo": {
     "elapsed": 1690,
     "status": "ok",
     "timestamp": 1671183687669,
     "user": {
      "displayName": "Miguel Sotaquirá",
      "userId": "08038952820764930757"
     },
     "user_tz": 300
    },
    "id": "PPYlABJz6f2u",
    "outputId": "fd95f922-f50c-468d-917f-b5a338e8508e"
   },
   "outputs": [
    {
     "data": {
      "image/png": "[encoded data removed]",
      "text/plain": [
       "<Figure size 720x2160 with 10 Axes>"
      ]
     },
     "metadata": {
      "needs_background": "light"
     },
     "output_type": "display_data"
    }
   ],
   "source": [
    "for column in data.columns:\n",
    "    # Representar en minúsculas sólo si la columna es categórica\n",
    "    if column in cols_cat:\n",
    "        data[column] = data[column].str.lower()\n",
    "\n",
    "# Y generemos las gráficas nuevamente\n",
    "fig, ax = plt.subplots(nrows=10, ncols=1, figsize=(10,30))\n",
    "fig.subplots_adjust(hspace=1)\n",
    "\n",
    "for i, col in enumerate(cols_cat):\n",
    "  sns.countplot(x=col, data=data, ax=ax[i])\n",
    "  ax[i].set_title(col)\n",
    "  ax[i].set_xticklabels(ax[i].get_xticklabels(),rotation=30)"
   ]
  },
  {
   "cell_type": "code",
   "execution_count": 16,
   "metadata": {
    "colab": {
     "base_uri": "https://localhost:8080/"
    },
    "executionInfo": {
     "elapsed": 26,
     "status": "ok",
     "timestamp": 1671183687670,
     "user": {
      "displayName": "Miguel Sotaquirá",
      "userId": "08038952820764930757"
     },
     "user_tz": 300
    },
    "id": "uSESKHcD67bx",
    "outputId": "474e0cc3-60da-4981-89f1-2cc1fe3fbf93"
   },
   "outputs": [
    {
     "name": "stdout",
     "output_type": "stream",
     "text": [
      "['management' 'technician' 'entrepreneur' 'blue-collar' 'unknown'\n",
      " 'retired' 'admin.' 'services' 'self-employed' 'unemployed' 'housemaid'\n",
      " 'student' 'administrative']\n",
      "['management' 'technician' 'entrepreneur' 'blue-collar' 'unknown'\n",
      " 'retired' 'administrative' 'services' 'self-employed' 'unemployed'\n",
      " 'housemaid' 'student']\n"
     ]
    }
   ],
   "source": [
    "# job: unificar admin. y administrative\n",
    "print(data['trabajo'].unique())\n",
    "data['trabajo'] = data['trabajo'].str.replace('admin.','administrative', regex=False)\n",
    "print(data['trabajo'].unique())"
   ]
  },
  {
   "cell_type": "code",
   "execution_count": 17,
   "metadata": {
    "colab": {
     "base_uri": "https://localhost:8080/"
    },
    "executionInfo": {
     "elapsed": 23,
     "status": "ok",
     "timestamp": 1671183687670,
     "user": {
      "displayName": "Miguel Sotaquirá",
      "userId": "08038952820764930757"
     },
     "user_tz": 300
    },
    "id": "Pyc3HuMZ8S3j",
    "outputId": "e3c079b6-8d74-412b-fea9-aed35e02e009"
   },
   "outputs": [
    {
     "name": "stdout",
     "output_type": "stream",
     "text": [
      "['married' 'single' 'div.' 'divorced']\n",
      "['married' 'single' 'divorced']\n"
     ]
    }
   ],
   "source": [
    "# marital: unificar div. y divorced\n",
    "print(data['estado_civil'].unique())\n",
    "data['estado_civil'] = data['estado_civil'].str.replace('div.','divorced', regex=False)\n",
    "print(data['estado_civil'].unique())"
   ]
  },
  {
   "cell_type": "code",
   "execution_count": 18,
   "metadata": {
    "colab": {
     "base_uri": "https://localhost:8080/"
    },
    "executionInfo": {
     "elapsed": 20,
     "status": "ok",
     "timestamp": 1671183687671,
     "user": {
      "displayName": "Miguel Sotaquirá",
      "userId": "08038952820764930757"
     },
     "user_tz": 300
    },
    "id": "KyoDsJeI-BMV",
    "outputId": "259da277-68c8-4333-e25e-0710ca291f48"
   },
   "outputs": [
    {
     "name": "stdout",
     "output_type": "stream",
     "text": [
      "['tertiary' 'secondary' 'unknown' 'primary' 'sec.' 'unk']\n",
      "['tertiary' 'secondary' 'unknown' 'primary']\n"
     ]
    }
   ],
   "source": [
    "# education: unificar sec. y secondary, unk y unknown\n",
    "print(data['educacion'].unique())\n",
    "data['educacion'] = data['educacion'].str.replace('sec.','secondary', regex=False)\n",
    "data.loc[data['educacion']=='unk','educacion'] = 'unknown'\n",
    "print(data['educacion'].unique())"
   ]
  },
  {
   "cell_type": "code",
   "execution_count": 19,
   "metadata": {
    "colab": {
     "base_uri": "https://localhost:8080/"
    },
    "executionInfo": {
     "elapsed": 16,
     "status": "ok",
     "timestamp": 1671183687671,
     "user": {
      "displayName": "Miguel Sotaquirá",
      "userId": "08038952820764930757"
     },
     "user_tz": 300
    },
    "id": "hxzP331D_sMN",
    "outputId": "4bfe38e9-8df7-4a68-9e27-cfee1be57eb9"
   },
   "outputs": [
    {
     "name": "stdout",
     "output_type": "stream",
     "text": [
      "['unknown' 'cellular' 'telephone' 'phone' 'mobile']\n",
      "['unknown' 'cellular' 'telephone']\n"
     ]
    }
   ],
   "source": [
    "# contact: unificar telephone y phone\n",
    "print(data['contacto'].unique())\n",
    "data.loc[data['contacto']=='phone','contacto'] = 'telephone'\n",
    "data.loc[data['contacto']=='mobile','contacto'] = 'cellular'\n",
    "print(data['contacto'].unique())"
   ]
  },
  {
   "cell_type": "code",
   "execution_count": 20,
   "metadata": {
    "colab": {
     "base_uri": "https://localhost:8080/"
    },
    "executionInfo": {
     "elapsed": 15,
     "status": "ok",
     "timestamp": 1671183687672,
     "user": {
      "displayName": "Miguel Sotaquirá",
      "userId": "08038952820764930757"
     },
     "user_tz": 300
    },
    "id": "24zBZHfi_-VT",
    "outputId": "cbc57aa0-e4d2-4f38-93c7-d7028ae5a2f9"
   },
   "outputs": [
    {
     "name": "stdout",
     "output_type": "stream",
     "text": [
      "['unknown' 'unk' 'failure' 'other' 'success']\n",
      "['unknown' 'failure' 'other' 'success']\n"
     ]
    }
   ],
   "source": [
    "# poutcome: unificar unk y unknown\n",
    "print(data['resultado_antes'].unique())\n",
    "data.loc[data['resultado_antes']=='unk','resultado_antes']='unknown'\n",
    "print(data['resultado_antes'].unique())"
   ]
  },
  {
   "cell_type": "code",
   "execution_count": 21,
   "metadata": {
    "colab": {
     "base_uri": "https://localhost:8080/"
    },
    "executionInfo": {
     "elapsed": 13,
     "status": "ok",
     "timestamp": 1671183687673,
     "user": {
      "displayName": "Miguel Sotaquirá",
      "userId": "08038952820764930757"
     },
     "user_tz": 300
    },
    "id": "6rUd2kpuAJqt",
    "outputId": "f6420f3a-94c1-4980-8288-4900a7b71fb9"
   },
   "outputs": [
    {
     "data": {
      "text/plain": [
       "(45189, 17)"
      ]
     },
     "execution_count": 21,
     "metadata": {},
     "output_type": "execute_result"
    }
   ],
   "source": [
    "data.shape"
   ]
  },
  {
   "cell_type": "markdown",
   "metadata": {
    "id": "wgOD_fSUAIOt"
   },
   "source": [
    "¡Y listo, ya hemos realizado la limpieza de nuestro set de datos!\n",
    "\n",
    "Originalmente tenía 45.215 registros y 17 columnas. El dataset resultante tiene 45.189 filas (26 menos) y 17 columnas.\n",
    "\n",
    "El set de datos ya está listo para el Análisis Exploratorio."
   ]
  },
  {
   "cell_type": "code",
   "execution_count": 22,
   "metadata": {
    "executionInfo": {
     "elapsed": 227,
     "status": "ok",
     "timestamp": 1671183687889,
     "user": {
      "displayName": "Miguel Sotaquirá",
      "userId": "08038952820764930757"
     },
     "user_tz": 300
    },
    "id": "s90V96SlBOL0"
   },
   "outputs": [],
   "source": [
    "import os\n",
    "\n",
    "ruta = os.path.expanduser(\"~/Downloads/dataset_Seguros_Limpia.csv\")\n",
    "data.to_csv(ruta, index=False)"
   ]
  },
  {
   "cell_type": "code",
   "execution_count": null,
   "metadata": {},
   "outputs": [],
   "source": []
  }
 ],
 "metadata": {
  "colab": {
   "authorship_tag": "ABX9TyNg0Scy3dstBWPaRKioT8Mx",
   "provenance": []
  },
  "kernelspec": {
   "display_name": "Python 3",
   "language": "python",
   "name": "python3"
  },
  "language_info": {
   "codemirror_mode": {
    "name": "ipython",
    "version": 3
   },
   "file_extension": ".py",
   "mimetype": "text/x-python",
   "name": "python",
   "nbconvert_exporter": "python",
   "pygments_lexer": "ipython3",
   "version": "3.7.4"
  }
 },
 "nbformat": 4,
 "nbformat_minor": 1
}
